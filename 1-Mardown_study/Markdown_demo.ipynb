{
 "cells": [
  {
   "cell_type": "markdown",
   "metadata": {},
   "source": [
    "# Markdown简介\n",
    "--------"
   ]
  },
  {
   "cell_type": "markdown",
   "metadata": {},
   "source": [
    "## Markdown简介"
   ]
  },
  {
   "cell_type": "markdown",
   "metadata": {},
   "source": [
    "&emsp;&emsp;Markdown是一种可以使用普通文本编辑器编写的标记语言，通过简单的标记语法，它可以使普通文本内容具有一定的格式。Markdown具有一系列衍生版本，用于扩展Markdown的功能（如表格、脚注、内嵌HTML等等），这些功能原初的Markdown尚不具备，它们能让Markdown转换成更多的格式，例如``LaTeX``，``Docbook``。Markdown增强版中比较有名的有``Markdown Extra``、``MultiMarkdown``、 ``Maruku``等。这些衍生版本要么基于工具，如`Pandoc`；要么基于网站，如GitHub和Wikipedia，在语法上基本兼容，但在一些语法和渲染效果上有改动。"
   ]
  },
  {
   "cell_type": "markdown",
   "metadata": {},
   "source": [
    "## 注意事项及前提"
   ]
  },
  {
   "cell_type": "markdown",
   "metadata": {},
   "source": [
    "1. 本文针对Jupter Notebook上的笔记进行pdf转化时发现，有些Markdown语法在转化成pdf时，会出现格式错误等问题，摸索出的原则是选择越简单的语法编写转化的pdf越准确。目前可用的语法规则有：`标题`、`字体`、`超链接`、`表格`。  \n",
    "2. <span class=\"burk\">纯Markdown文本使用md文件编写最合适不过，这里用Jupyter只是为了熟练Jupyter。</span>  \n",
    "3. Jupyter 上编辑一般都使用Markdown和代码，原生NBConvert一般不用，传到Github上很难看。"
   ]
  },
  {
   "cell_type": "markdown",
   "metadata": {},
   "source": [
    "## 目前存在的问题"
   ]
  },
  {
   "cell_type": "markdown",
   "metadata": {},
   "source": [
    "1. 在转化为PDF时，存在自动的首行缩进。"
   ]
  },
  {
   "cell_type": "markdown",
   "metadata": {},
   "source": [
    "## 参考网址"
   ]
  },
  {
   "cell_type": "markdown",
   "metadata": {},
   "source": [
    "[Markdown基本语法](https://www.jianshu.com/p/191d1e21f7ed)  \n",
    "[markdown语法之列表与缩进](https://blog.csdn.net/qq_33229669/article/details/81610939)"
   ]
  },
  {
   "cell_type": "markdown",
   "metadata": {},
   "source": [
    "## 私房菜"
   ]
  },
  {
   "cell_type": "markdown",
   "metadata": {},
   "source": [
    "暂无"
   ]
  },
  {
   "cell_type": "markdown",
   "metadata": {},
   "source": [
    "# 标题\n",
    "--------"
   ]
  },
  {
   "cell_type": "markdown",
   "metadata": {},
   "source": [
    "``## 二级标题``"
   ]
  },
  {
   "cell_type": "markdown",
   "metadata": {},
   "source": [
    "## 二级标题"
   ]
  },
  {
   "cell_type": "markdown",
   "metadata": {},
   "source": [
    "``### 三级标题``"
   ]
  },
  {
   "cell_type": "markdown",
   "metadata": {},
   "source": [
    "### 三级标题"
   ]
  },
  {
   "cell_type": "markdown",
   "metadata": {},
   "source": [
    "注：标题**文字**与**#**号间需要有空格"
   ]
  },
  {
   "cell_type": "markdown",
   "metadata": {},
   "source": [
    "# 字体\n",
    "--------"
   ]
  },
  {
   "cell_type": "markdown",
   "metadata": {},
   "source": [
    "## 转义字符"
   ]
  },
  {
   "cell_type": "markdown",
   "metadata": {},
   "source": [
    "比如我们想输出反引号，但是markdown把反引号作为标记，有编程语言的基础的同学知道，转义符的存在。\n",
    "反斜线(\\\\)用于插入在 Markdown 语法中有特殊作用的字符。"
   ]
  },
  {
   "cell_type": "markdown",
   "metadata": {},
   "source": [
    "## 字体变化"
   ]
  },
  {
   "cell_type": "markdown",
   "metadata": {},
   "source": [
    "输入\n",
    "\n",
    "`**这是加粗的文字**`  \n",
    "`*这是倾斜的文字*`  \n",
    "`***这是斜体加粗的文字***`  \n",
    "`~~这是加删除线的文字~~`\n",
    "\n",
    "输出"
   ]
  },
  {
   "cell_type": "markdown",
   "metadata": {},
   "source": [
    "**这是加粗的文字**  \n",
    "*这是倾斜的文字*`  \n",
    "***这是斜体加粗的文字***  \n",
    "~~这是加删除线的文字~~"
   ]
  },
  {
   "cell_type": "markdown",
   "metadata": {},
   "source": [
    "## 高亮字体"
   ]
  },
  {
   "cell_type": "markdown",
   "metadata": {},
   "source": [
    "普通字体  \n",
    "\\`高亮字体`"
   ]
  },
  {
   "cell_type": "markdown",
   "metadata": {},
   "source": [
    "普通字体  \n",
    "`高亮字体`"
   ]
  },
  {
   "cell_type": "markdown",
   "metadata": {},
   "source": [
    "## 字体大小"
   ]
  },
  {
   "cell_type": "markdown",
   "metadata": {},
   "source": [
    "我们之前说过。markdown是兼容HTML的，所以可以使用`<font>`标签来设置字体大小。\n",
    "\n",
    "输入\n",
    "\n",
    "```html\n",
    "    <font size=6>我是放大字</font>\n",
    "    <font size=2>我是缩小字</font>\n",
    "```\n",
    "\n",
    "输出"
   ]
  },
  {
   "cell_type": "markdown",
   "metadata": {},
   "source": [
    "<font size=6>我是放大字</font>\n",
    "<font size=2>我是缩小字</font>"
   ]
  },
  {
   "cell_type": "markdown",
   "metadata": {},
   "source": [
    "# 引用\n",
    "--------"
   ]
  },
  {
   "cell_type": "markdown",
   "metadata": {},
   "source": [
    "```\n",
    ">这是引用的内容\n",
    ">>这是引用的内容\n",
    ">>>>这是引用的内容（空一行回到原文）\n",
    "\n",
    "这是引用的内容\n",
    "```"
   ]
  },
  {
   "cell_type": "markdown",
   "metadata": {},
   "source": [
    ">这是引用的内容\n",
    ">>这是引用的内容\n",
    ">>>>这是引用的内容\n",
    "\n",
    "这是引用的内容"
   ]
  },
  {
   "cell_type": "markdown",
   "metadata": {},
   "source": [
    "# 段落\n",
    "--------"
   ]
  },
  {
   "cell_type": "markdown",
   "metadata": {},
   "source": [
    "## 首行缩进"
   ]
  },
  {
   "cell_type": "markdown",
   "metadata": {},
   "source": [
    "写文章时，我们常常希望能够首行缩进，这时可以在段首加入`&ensp;`；来输入一个空格.加入`&emsp;`来输入两个空格。\n",
    "\n",
    "因此，中文首行缩进需要两个`&emsp;`。(英文半角状态)"
   ]
  },
  {
   "cell_type": "markdown",
   "metadata": {},
   "source": [
    "&emsp;&emsp;一语未了，只听后院中有人笑声，说：“我来迟了，不曾迎接远客！\""
   ]
  },
  {
   "cell_type": "markdown",
   "metadata": {},
   "source": [
    "## 另起一段（换行）"
   ]
  },
  {
   "cell_type": "markdown",
   "metadata": {},
   "source": [
    "### 常用换行方式"
   ]
  },
  {
   "cell_type": "markdown",
   "metadata": {},
   "source": [
    "- “傻瓜”与“我爱你”之间有一行空格，导致出现`换行`出现；\n",
    "\n",
    "- “我爱你”与“傻逼”间只有“ENTER”键，导致出现`分词`的空格出现"
   ]
  },
  {
   "cell_type": "markdown",
   "metadata": {},
   "source": [
    "结果：\n",
    "\n",
    "傻瓜\n",
    "\n",
    "我爱你\n",
    "傻逼"
   ]
  },
  {
   "cell_type": "markdown",
   "metadata": {},
   "source": [
    "### 不常用的换行方式"
   ]
  },
  {
   "cell_type": "markdown",
   "metadata": {},
   "source": [
    "- “同济大学”与“吉林大学”间有“space+space+enter”\n",
    "- 与 5.1.1 的换行方式段间距不同"
   ]
  },
  {
   "cell_type": "markdown",
   "metadata": {},
   "source": [
    "清华大学\n",
    "同济大学  \n",
    "吉林大学"
   ]
  },
  {
   "cell_type": "markdown",
   "metadata": {},
   "source": [
    "# 分割线\n",
    "--------"
   ]
  },
  {
   "cell_type": "markdown",
   "metadata": {},
   "source": [
    "    三个或者三个以上的 - 或者 * 都可以：\n",
    "    ---\n",
    "    ----\n",
    "    ***\n",
    "    *****  \n",
    "    ---"
   ]
  },
  {
   "cell_type": "markdown",
   "metadata": {},
   "source": [
    "---  \n",
    "----  \n",
    "***  \n",
    "*****  \n",
    "---"
   ]
  },
  {
   "cell_type": "markdown",
   "metadata": {},
   "source": [
    "# 图片\n",
    "--------"
   ]
  },
  {
   "cell_type": "markdown",
   "metadata": {},
   "source": [
    "## 插入网络图片"
   ]
  },
  {
   "cell_type": "markdown",
   "metadata": {},
   "source": [
    "``![图片alt](图片网址 ''图片title'')``\n",
    "\n",
    "图片alt就是显示在图片下面的文字，相当于对图片内容的解释。  \n",
    "图片title是图片的标题，当鼠标移到图片上时显示的内容。title可加可不加\n",
    "\n",
    "``![blockchain](https://ss0.bdstatic.com/70cFvHSh_Q1YnxGkpoWK1HF6hhy/it/u=702257389,1274025419&fm=27&gp=0.jpg \"区块链\")``\n"
   ]
  },
  {
   "cell_type": "markdown",
   "metadata": {},
   "source": [
    "![blockchain](https://ss0.bdstatic.com/70cFvHSh_Q1YnxGkpoWK1HF6hhy/it/u=702257389,1274025419&fm=27&gp=0.jpg \"区块链\")"
   ]
  },
  {
   "cell_type": "markdown",
   "metadata": {},
   "source": [
    "## 插入本地图片"
   ]
  },
  {
   "cell_type": "markdown",
   "metadata": {},
   "source": [
    "    \n",
    "    ![图片alt](图片名字 \"图片title\")\n",
    "\n",
    "图片alt就是显示在图片下面的文字，相当于对图片内容的解释。  \n",
    "图片title是图片的标题，当鼠标移到图片上时显示的内容。title可加可不加  \n",
    "注意：图片须与``ipynb``文件在同一文件夹\n",
    "\n",
    "    ![cover](cover.jpg \"封面\")\n"
   ]
  },
  {
   "cell_type": "markdown",
   "metadata": {},
   "source": [
    "![cover](cover.jpg)"
   ]
  },
  {
   "cell_type": "markdown",
   "metadata": {},
   "source": [
    "## 更改图片大小"
   ]
  },
  {
   "cell_type": "markdown",
   "metadata": {},
   "source": [
    "我们在上面插入的图片的大小都是固定的，那么有什么方法可以改变图片的默认大小呢？\n",
    "我们说过，我们说过，markdown是兼容HTML语法的，所以可以利用`<img>`标签来定义图片的大小\n",
    "```html\n",
    "    <img src=\"filename\" width=\"\" height=\"\"></img>\n",
    "```\n",
    "这样通过img标签就可以改变图片的大小了。"
   ]
  },
  {
   "cell_type": "markdown",
   "metadata": {},
   "source": [
    "## 网上图片超链接"
   ]
  },
  {
   "cell_type": "markdown",
   "metadata": {},
   "source": [
    "### 普通超链接"
   ]
  },
  {
   "cell_type": "markdown",
   "metadata": {},
   "source": [
    "    [![图片alt](图片网址)](跳转网址)\n",
    "实例\n",
    "\n",
    "    [![Binder](https://mybinder.org/badge.svg)](https://www.youtube.com/)\n",
    "结果"
   ]
  },
  {
   "cell_type": "markdown",
   "metadata": {},
   "source": [
    "[![Binder](https://mybinder.org/badge.svg)](https://www.youtube.com/)"
   ]
  },
  {
   "cell_type": "markdown",
   "metadata": {},
   "source": [
    "### html格式超链接"
   ]
  },
  {
   "cell_type": "markdown",
   "metadata": {},
   "source": [
    "        <a href=\"跳转网址\"><img src=\"图片源地址\" /></a>\n",
    "示例\n",
    "```html\n",
    "    <a href=\"http://baidu.com\"><img src=\"https://notebooks.azure.com/launch.png\" /></a>\n",
    "```\n",
    "结果"
   ]
  },
  {
   "cell_type": "markdown",
   "metadata": {},
   "source": [
    "<a href=\"http://baidu.com\"><img src=\"https://notebooks.azure.com/launch.png\" /></a>"
   ]
  },
  {
   "cell_type": "markdown",
   "metadata": {},
   "source": [
    "# 超链接\n",
    "--------"
   ]
  },
  {
   "cell_type": "markdown",
   "metadata": {},
   "source": [
    "## 普通超链接"
   ]
  },
  {
   "cell_type": "markdown",
   "metadata": {},
   "source": [
    "\n",
    "    [超链接名](超链接地址 \"超链接title\")\n",
    "    title可加可不加\n",
    "\n",
    "    实例：\n",
    "    [Youtube](https://www.youtube.com/)  \n",
    "    [Google](https://www.google.com/)  \n",
    "    [百度](http://baidu.com)\n"
   ]
  },
  {
   "cell_type": "markdown",
   "metadata": {},
   "source": [
    "[Youtube](https://www.youtube.com/)  \n",
    "[Google](https://www.google.com/)  \n",
    "[百度](http://baidu.com)"
   ]
  },
  {
   "cell_type": "markdown",
   "metadata": {},
   "source": [
    "## html格式超链接"
   ]
  },
  {
   "cell_type": "markdown",
   "metadata": {},
   "source": [
    "注：Markdown本身语法不支持链接在新页面中打开，貌似简书做了处理，是可以的。别的平台可能就不行了，如果想要在新页面中打开的话可以用html语言的a标签代替。"
   ]
  },
  {
   "cell_type": "markdown",
   "metadata": {},
   "source": [
    "\n",
    "        <a href=\"超链接地址\" target=\"_blank\">超链接名</a>\n",
    "\n",
    "示例\n",
    "```html\n",
    "    <a href=\"http://baidu.com\" target=\"_blank\">百度</a>\n",
    "```"
   ]
  },
  {
   "cell_type": "markdown",
   "metadata": {},
   "source": [
    "<a href=\"http://baidu.com\" target=\"_blank\">百度</a>"
   ]
  },
  {
   "cell_type": "markdown",
   "metadata": {},
   "source": [
    "## Github独有的“参考文献”格式"
   ]
  },
  {
   "cell_type": "markdown",
   "metadata": {},
   "source": [
    "    [Buy the book on Amazon][1]\n",
    "    \n",
    "    [1]: http://amzn.to/2vvBijB"
   ]
  },
  {
   "cell_type": "markdown",
   "metadata": {},
   "source": [
    "# 列表\n",
    "--------"
   ]
  },
  {
   "cell_type": "markdown",
   "metadata": {},
   "source": [
    "## 无序列表"
   ]
  },
  {
   "cell_type": "markdown",
   "metadata": {},
   "source": [
    "```\n",
    "- 列表内容1  \n",
    "+ 列表内容2  \n",
    "* 列表内容3\n",
    "\n",
    "注意：- + * 跟内容之间都要有一个空格；间有“space+space+enter”\n",
    "```"
   ]
  },
  {
   "cell_type": "markdown",
   "metadata": {},
   "source": [
    "- 列表内容1  \n",
    "+ 列表内容2  \n",
    "* 列表内容3"
   ]
  },
  {
   "cell_type": "markdown",
   "metadata": {},
   "source": [
    "## 有序列表"
   ]
  },
  {
   "cell_type": "markdown",
   "metadata": {},
   "source": [
    "```\n",
    "1. 列表内容  \n",
    "2. 列表内容  \n",
    "3. 列表内容\n",
    "\n",
    "注意：1、序号跟内容之间要有空格；2、间有“space+space+enter”\n",
    "```"
   ]
  },
  {
   "cell_type": "markdown",
   "metadata": {},
   "source": [
    "1. 列表内容  \n",
    "2. 列表内容  \n",
    "3. 列表内容"
   ]
  },
  {
   "cell_type": "markdown",
   "metadata": {},
   "source": [
    "## 列表嵌套"
   ]
  },
  {
   "cell_type": "markdown",
   "metadata": {},
   "source": [
    "```\n",
    "1. 我们需要……  \n",
    "还没说完……  \n",
    "以及……\n",
    "\n",
    "以及……\n",
    "```"
   ]
  },
  {
   "cell_type": "markdown",
   "metadata": {},
   "source": [
    "1. 我们需要……  \n",
    "还没说完……  \n",
    "以及……\n",
    "\n",
    "以及……"
   ]
  },
  {
   "cell_type": "markdown",
   "metadata": {},
   "source": [
    "```\n",
    "上一级和下一级之间敲1个TAB即可\n",
    "1. 一级有序列表内容\n",
    "    - 二级无序列表内容  \n",
    "    - 二级无序列表内容   \n",
    "2. 二级有序列表内容\n",
    "```"
   ]
  },
  {
   "cell_type": "markdown",
   "metadata": {},
   "source": [
    "1. 一级有序列表内容\n",
    "    - 二级无序列表内容  \n",
    "    - 二级无序列表内容   \n",
    "2. 二级有序列表内容"
   ]
  },
  {
   "cell_type": "markdown",
   "metadata": {},
   "source": [
    "# 表格\n",
    "--------"
   ]
  },
  {
   "cell_type": "markdown",
   "metadata": {},
   "source": [
    "```\n",
    "表头|表头|表头\n",
    "----|:--:|---:\n",
    "内容|内容|内容\n",
    "内容|内容|内容\n",
    "\n",
    "第二行分割表头和内容。\n",
    "- 有一个就行，为了对齐，多加了几个\n",
    "文字默认居左\n",
    "-两边加：表示文字居中\n",
    "-右边加：表示文字居右\n",
    "注：原生的语法两边都要用 | 包起来。此处省略\n",
    "\n",
    "实例：\n",
    "姓名|技能|排行\n",
    "--|:--:|--:\n",
    "刘备|哭|大哥\n",
    "关羽|打|二哥\n",
    "张飞|骂|三弟\n",
    "```"
   ]
  },
  {
   "cell_type": "markdown",
   "metadata": {},
   "source": [
    "姓名|技能|排行\n",
    "--|:--:|--:\n",
    "刘备|哭|大哥\n",
    "关羽|打|二哥\n",
    "张飞|骂|三弟"
   ]
  },
  {
   "cell_type": "markdown",
   "metadata": {},
   "source": [
    "# 代码\n",
    "--------"
   ]
  },
  {
   "cell_type": "markdown",
   "metadata": {},
   "source": [
    "## 单行代码"
   ]
  },
  {
   "cell_type": "markdown",
   "metadata": {},
   "source": [
    "在每行代码前加入4个空格或者添加一个制表符（TAB键）\n",
    "\n",
    "注意：其缩进是相对于当前格式状态下的。例如，[TAB][TAB]printf(\"hello world!\");"
   ]
  },
  {
   "cell_type": "markdown",
   "metadata": {},
   "source": [
    "* 列表\n",
    "        printf(\"hello world!\");"
   ]
  },
  {
   "cell_type": "markdown",
   "metadata": {},
   "source": [
    "## 代码块"
   ]
  },
  {
   "cell_type": "markdown",
   "metadata": {},
   "source": [
    "在代码两侧添加三个反引号‘```’"
   ]
  },
  {
   "cell_type": "markdown",
   "metadata": {},
   "source": [
    "\\`\\`\\` \n",
    "\n",
    "    function fun(){\n",
    "         echo \"这是一句非常牛逼的代码\";\n",
    "    }\n",
    "    fun();\n",
    "\\`\\`\\`"
   ]
  },
  {
   "cell_type": "markdown",
   "metadata": {},
   "source": [
    "```\n",
    "   function fun(){\n",
    "       echo \"这是一句非常牛逼的代码\";\n",
    "   }\n",
    "   fun();\n",
    "```"
   ]
  },
  {
   "cell_type": "markdown",
   "metadata": {},
   "source": [
    "## 代码高亮"
   ]
  },
  {
   "cell_type": "markdown",
   "metadata": {},
   "source": [
    "在三个反引号\\`后加上python、shell、C等\n",
    "\n",
    "\\`\\`\\`python\n",
    "\n",
    "    print('hello')\n",
    "    \n",
    "\\`\\`\\`"
   ]
  },
  {
   "cell_type": "markdown",
   "metadata": {},
   "source": [
    "### python"
   ]
  },
  {
   "cell_type": "markdown",
   "metadata": {},
   "source": [
    "```python\n",
    "$ python\n",
    "Python 3.6.0 | packaged by conda-forge | (default, Jan 13 2017, 23:17:12)\n",
    "[GCC 4.8.2 20140120 (Red Hat 4.8.2-15)] on linux\n",
    "Type \"help\", \"copyright\", \"credits\" or \"license\" for more information.\n",
    ">>> a = 5\n",
    ">>> print(a)\n",
    "5\n",
    "```"
   ]
  },
  {
   "cell_type": "markdown",
   "metadata": {},
   "source": [
    "### shell"
   ]
  },
  {
   "cell_type": "markdown",
   "metadata": {},
   "source": [
    "```shell\n",
    "cp hello.py ./\n",
    "sudo poweroff\n",
    "```"
   ]
  },
  {
   "cell_type": "markdown",
   "metadata": {},
   "source": [
    "### C语言"
   ]
  },
  {
   "cell_type": "markdown",
   "metadata": {},
   "source": [
    "```C\n",
    "#include<stdio.h>\n",
    "int main(){\n",
    "    printf(\"hello world/n\");\n",
    "    return 0;\n",
    "        }\n",
    "```"
   ]
  },
  {
   "cell_type": "markdown",
   "metadata": {},
   "source": [
    "# 流程图\n",
    "--------"
   ]
  },
  {
   "cell_type": "markdown",
   "metadata": {},
   "source": [
    "暂无"
   ]
  },
  {
   "cell_type": "markdown",
   "metadata": {},
   "source": [
    "# 公式\n",
    "--------"
   ]
  },
  {
   "cell_type": "markdown",
   "metadata": {},
   "source": [
    "`$$公式$$`表示行间公式，本来Tex中使用`\\(公式\\)`表示行内公式，但因为Markdown中`\\`是转义字符，所以在Markdown中输入行内公式使用`\\\\(公式\\\\)`。"
   ]
  },
  {
   "cell_type": "markdown",
   "metadata": {},
   "source": [
    "参考网址  \n",
    "\n",
    "[MarkDown 插入数学公式实验大集合](https://juejin.im/post/5a6721bd518825733201c4a2)"
   ]
  },
  {
   "cell_type": "markdown",
   "metadata": {},
   "source": [
    "## 基础"
   ]
  },
  {
   "cell_type": "markdown",
   "metadata": {},
   "source": [
    "### 插入公式"
   ]
  },
  {
   "cell_type": "markdown",
   "metadata": {},
   "source": [
    "#### 行间插入公式"
   ]
  },
  {
   "cell_type": "markdown",
   "metadata": {},
   "source": [
    "* 方法1\n",
    "\n",
    "我爱你的公式为`\\\\\\(a + b\\\\\\)`\n",
    "\n",
    "我爱你的公式为\\\\(a + b\\\\)"
   ]
  },
  {
   "cell_type": "markdown",
   "metadata": {},
   "source": [
    "特点就是通过`(` 和` )` 包含公式，然后为了模板引擎能够区分该 `( `不是普通文本的 `( `而是公式的 `(`，通过 `\\\\` 转义一下。这样应该就很好理解这个语法构成了。注意这里方式不唯一。"
   ]
  },
  {
   "cell_type": "markdown",
   "metadata": {},
   "source": [
    "* 方法2\n",
    "\n",
    "我爱你的公式为`$a + b$`\n",
    "\n",
    "我爱你的公式为$a + b$"
   ]
  },
  {
   "cell_type": "markdown",
   "metadata": {},
   "source": [
    "#### 行间插入"
   ]
  },
  {
   "cell_type": "markdown",
   "metadata": {},
   "source": [
    "公式为：`$$a + b$$`\n",
    "\n",
    "公式为：$$a + b$$"
   ]
  },
  {
   "cell_type": "markdown",
   "metadata": {},
   "source": [
    "### 加粗"
   ]
  },
  {
   "cell_type": "markdown",
   "metadata": {},
   "source": [
    "\n",
    "`$$ X $$\n",
    "$$ \\mathbf{X}$$`  \n",
    "`\\mathbf`是加粗\n",
    "\n",
    "$$ X $$\n",
    "\n",
    "$$ \\mathbf{X}$$"
   ]
  },
  {
   "cell_type": "markdown",
   "metadata": {},
   "source": [
    "### 上下标"
   ]
  },
  {
   "cell_type": "markdown",
   "metadata": {},
   "source": [
    "```\n",
    "$$x_1$$\n",
    "$$x_1^2$$\n",
    "\n",
    "$$x^2_1$$\n",
    "\n",
    "$$x_{22}^{(n)}$$\n",
    "\n",
    "$${}^*x^*$$\n",
    "\n",
    "$$x_{balabala}^{bala}$$\n",
    "```"
   ]
  },
  {
   "cell_type": "markdown",
   "metadata": {},
   "source": [
    "$$x_1$$\n",
    "$$x_1^2$$\n",
    "\n",
    "$$x^2_1$$\n",
    "\n",
    "$$x_{22}^{(n)}$$\n",
    "\n",
    "$${}^*x^*$$\n",
    "\n",
    "$$x_{balabala}^{bala}$$\n"
   ]
  },
  {
   "cell_type": "markdown",
   "metadata": {},
   "source": [
    "可以看到 `x`元素的上标通过 `^` 符号后接的内容体现; 下表通过 `_` 符号后接的内容体现，多于一位是要加 `{}` 包裹的。\n",
    "\n",
    "笔者习惯先下标后上标的写法，和我的书写习惯一致：`x_{balabala}^{bala}`，不管你使用哪一种风格，最好自己注意统一，不要混用。"
   ]
  },
  {
   "cell_type": "markdown",
   "metadata": {},
   "source": [
    "### 分式——\\frac{} {}"
   ]
  },
  {
   "cell_type": "markdown",
   "metadata": {},
   "source": [
    "`$$\\frac{x+y}{2}$$`\n",
    "\n",
    "`$$\\frac{1}{1+\\frac{1}{2}}$$`\n",
    "\n",
    "$$\\frac{x+y}{2}$$\n",
    "\n",
    "$$\\frac{1}{1+\\frac{1}{2}}$$\n"
   ]
  },
  {
   "cell_type": "markdown",
   "metadata": {},
   "source": [
    "这里就出现了一个 `frac{}{}` 函数的东西，同样，为了区分这是函数不是几个字母，通过 `\\frac` 转义，于是 `frac` 被解析成函数，然后第一个 `{}` 里面的被解析成分子，第二个 `{}` 被解析成分母。"
   ]
  },
  {
   "cell_type": "markdown",
   "metadata": {},
   "source": [
    "### 根式——\\sqrt[] {}"
   ]
  },
  {
   "cell_type": "markdown",
   "metadata": {},
   "source": [
    "`$$\\sqrt{2}<\\sqrt[3]{3}$$`\n",
    "\n",
    "`$$\\sqrt{1+\\sqrt[p]{1+a^2}}$$`\n",
    "\n",
    "`$$\\sqrt{1+\\sqrt[^p\\!]{1+a^2}}$$`\n",
    "\n",
    "$$\\sqrt{2}<\\sqrt[3]{3}$$\n",
    "\n",
    "$$\\sqrt{1+\\sqrt[p]{1+a^2}}$$\n",
    "\n",
    "$$\\sqrt{1+\\sqrt[^p\\!]{1+a^2}}$$\n"
   ]
  },
  {
   "cell_type": "markdown",
   "metadata": {},
   "source": [
    "`[]` 中代表是几次根式，`{}` 代表根号下的表达式。第二和第三个的区别在于为了美观微调位置 ^_^。"
   ]
  },
  {
   "cell_type": "markdown",
   "metadata": {},
   "source": [
    "### 求和、积分——\\sum_{起点}^{终点}、\\int_下限^上限 被积函数d被积量"
   ]
  },
  {
   "cell_type": "markdown",
   "metadata": {},
   "source": [
    "`$$\\sum_{k=1}^{n}\\frac{1}{k}$$`\n",
    "\n",
    "`$\\sum_{k=1}^n\\frac{1}{k}$`\n",
    "\n",
    "`$$\\int_a^b f(x)dx$$`\n",
    "\n",
    "`$\\int_a^b f(x)dx$`\n",
    "\n",
    "$$\\sum_{k=1}^{n}\\frac{1}{k}$$\n",
    "\n",
    "$\\sum_{k=1}^n\\frac{1}{k}$\n",
    "\n",
    "$$\\int_a^b f(x)dx$$\n",
    "\n",
    "$\\int_a^b f(x)dx$\n",
    "\n"
   ]
  },
  {
   "cell_type": "markdown",
   "metadata": {},
   "source": [
    "行间的公式都被压缩了。"
   ]
  },
  {
   "cell_type": "markdown",
   "metadata": {},
   "source": [
    "### 空格"
   ]
  },
  {
   "cell_type": "markdown",
   "metadata": {},
   "source": [
    "紧贴 `$a\\!b$`\n",
    "\n",
    "没有空格 `$ab$`\n",
    "\n",
    "小空格 `a\\,b`\n",
    "\n",
    "中等空格 `a\\;b`\n",
    "\n",
    "大空格 `a\\ b`\n",
    "\n",
    "quad空格 `$a\\quad b$`\n",
    "\n",
    "两个quad空格 `$a\\qquad b$`\n",
    "\n",
    "$a\\!b$\n",
    "\n",
    "$ab$\n",
    "\n",
    "a\\,b\n",
    "\n",
    "a\\;b\n",
    "\n",
    "a\\ b\n",
    "\n",
    "$a\\quad b$\n",
    "\n",
    "$a\\qquad b$\n"
   ]
  },
  {
   "cell_type": "markdown",
   "metadata": {},
   "source": [
    "`$$\\int_a^b f(x)\\mathrm{d}x$$`\n",
    "\n",
    "`$$\\int_a^b f(x)\\,\\mathrm{d}x$$`\n",
    "\n",
    "$$\\int_a^b f(x)\\mathrm{d}x$$\n",
    "\n",
    "$$\\int_a^b f(x)\\,\\mathrm{d}x$$\n"
   ]
  },
  {
   "cell_type": "markdown",
   "metadata": {},
   "source": [
    "### 公式界定符"
   ]
  },
  {
   "cell_type": "markdown",
   "metadata": {},
   "source": [
    "\\\\( ( \\\\)\n",
    "\\\\( ) \\\\)\n",
    "\\\\( [ \\\\)\n",
    "\\\\( ] \\\\)\n",
    "\\\\( \\{ \\\\)\n",
    "\\\\( \\} \\\\)\n",
    "\\\\( | \\\\)\n",
    "\\\\( \\| \\\\)\n",
    "\n",
    "`$ ( $`——>$ ( $\n",
    "\n",
    "`$ ) $`——>$ ) $\n",
    "\n",
    "`$ [ $`——>$ [ $\n",
    "\n",
    "`$ ] $`——>$ ] $\n",
    "\n",
    "`$ \\{ $`——>$ \\{ $\n",
    "\n",
    "`$ \\} $`——>$ \\} $\n",
    "\n",
    "`$ | $`——>$ | $\n",
    "\n",
    "`$ \\| $`——>$ \\| $"
   ]
  },
  {
   "cell_type": "markdown",
   "metadata": {},
   "source": [
    "通过 `\\left` 和 `\\right` 后面跟界定符来对同时进行界定。\n",
    "\n",
    "`$$\\left(\\sum_{k=\\frac{1}{2}}^{N^2}\\frac{1}{k}\\right)$$`\n",
    "$$\\left(\\sum_{k=\\frac{1}{2}}^{N^2}\\frac{1}{k}\\right)$$\n",
    "`$$(\\sum_{k=\\frac{1}{2}}^{N^2}\\frac{1}{k})$$`\n",
    "$$(\\sum_{k=\\frac{1}{2}}^{N^2}\\frac{1}{k})$$\n",
    "`$$\\left[\\sum_{k=\\frac{1}{2}}^{N^2}\\frac{1}{k}\\right]$$`\n",
    "$$\\left[\\sum_{k=\\frac{1}{2}}^{N^2}\\frac{1}{k}\\right]$$"
   ]
  },
  {
   "cell_type": "markdown",
   "metadata": {},
   "source": [
    "### 矩阵"
   ]
  },
  {
   "cell_type": "markdown",
   "metadata": {},
   "source": [
    "`$$\\begin{matrix}1 & 2\\\\\\\\3 &4\\end{matrix}$$`\n",
    "\n",
    "`$$\\begin{pmatrix}1 & 2\\\\\\\\3 &4\\end{pmatrix}$$`\n",
    "\n",
    "`$$\\begin{bmatrix}1 & 2\\\\\\\\3 &4\\end{bmatrix}$$`\n",
    "\n",
    "`$$\\begin{Bmatrix}1 & 2\\\\\\\\3 &4\\end{Bmatrix}$$`\n",
    "\n",
    "`$$\\begin{vmatrix}1 & 2\\\\\\\\3 &4\\end{vmatrix}$$`\n",
    "\n",
    "`$$\\left|\\begin{matrix}1 & 2\\\\\\\\3 &4\\end{matrix}\\right|$$`\n",
    "\n",
    "`$$\\begin{Vmatrix}1 & 2\\\\\\\\3 &4\\end{Vmatrix}$$`\n",
    "\n",
    "$$\\begin{matrix}1 & 2\\\\\\\\3 &4\\end{matrix}$$\n",
    "\n",
    "$$\\begin{pmatrix}1 & 2\\\\\\\\3 &4\\end{pmatrix}$$\n",
    "\n",
    "$$\\begin{bmatrix}1 & 2\\\\\\\\3 &4\\end{bmatrix}$$\n",
    "\n",
    "$$\\begin{Bmatrix}1 & 2\\\\\\\\3 &4\\end{Bmatrix}$$\n",
    "\n",
    "$$\\begin{vmatrix}1 & 2\\\\\\\\3 &4\\end{vmatrix}$$\n",
    "\n",
    "$$\\left|\\begin{matrix}1 & 2\\\\\\\\3 &4\\end{matrix}\\right|$$\n",
    "\n",
    "$$\\begin{Vmatrix}1 & 2\\\\\\\\3 &4\\end{Vmatrix}$$\n"
   ]
  },
  {
   "cell_type": "markdown",
   "metadata": {},
   "source": [
    "类似于 `\\left` `\\right`，这里是 `\\begin` 和 `\\end`。而且里面有具体的矩阵语法，`&` 区分行间元素，`\\\\\\\\`代表换行。可以理解为 HTML 的标签之类的。"
   ]
  },
  {
   "cell_type": "markdown",
   "metadata": {},
   "source": [
    "`$$\\mathbf{X} =\n",
    "\\left( \\begin{array}{ccc}\n",
    "x\\_{11} & x\\_{12} & \\ldots \\\\\\\\\n",
    "x\\_{21} & x\\_{22} & \\ldots \\\\\\\\\n",
    "\\vdots & \\vdots & \\ddots\n",
    "\\end{array} \\right)$$`\n",
    "\n",
    "$$\\mathbf{X} =\n",
    "\\left( \\begin{array}{ccc}\n",
    "x\\_{11} & x\\_{12} & \\ldots \\\\\\\\\n",
    "x\\_{21} & x\\_{22} & \\ldots \\\\\\\\\n",
    "\\vdots & \\vdots & \\ddots\n",
    "\\end{array} \\right)$$\n",
    "\n",
    "`$$ \\mathbf{X} = \\begin{pmatrix}x\\_{11} & x\\_{12} & \\ldots \\\\\\\\\n",
    "x\\_{21} & x\\_{22} & \\ldots \\\\\\\\\n",
    "\\vdots & \\vdots & \\ddots\n",
    "\\end{pmatrix}$$`\n",
    "\n",
    "$$ \\mathbf{X} = \\begin{pmatrix}x\\_{11} & x\\_{12} & \\ldots \\\\\\\\\n",
    "x\\_{21} & x\\_{22} & \\ldots \\\\\\\\\n",
    "\\vdots & \\vdots & \\ddots\n",
    "\\end{pmatrix}$$\n"
   ]
  },
  {
   "cell_type": "markdown",
   "metadata": {},
   "source": [
    "###  长公式"
   ]
  },
  {
   "cell_type": "markdown",
   "metadata": {},
   "source": [
    "`$$\n",
    "\\begin{multline}\n",
    "x = a+b+c+{} \\\\\\\\\n",
    "d+e+f+g\n",
    "\\end{multline}\n",
    "$$`\n",
    "\n",
    "$$\n",
    "\\begin{multline}\n",
    "x = a+b+c+{} \\\\\\\\\n",
    "d+e+f+g\n",
    "\\end{multline}\n",
    "$$\n",
    "\n",
    "\n",
    "`$$\n",
    "\\begin{aligned}\n",
    "x ={}& a+b+c+{} \\\\\\\\\n",
    "&d+e+f+g\n",
    "\\end{aligned}\n",
    "$$`\n",
    "\n",
    "$$\n",
    "\\begin{aligned}\n",
    "x ={}& a+b+c+{} \\\\\\\\\n",
    "&d+e+f+g\n",
    "\\end{aligned}\n",
    "$$\n",
    "\n"
   ]
  },
  {
   "cell_type": "markdown",
   "metadata": {},
   "source": [
    "### 公式组"
   ]
  },
  {
   "cell_type": "markdown",
   "metadata": {},
   "source": [
    "`$$\n",
    "\\begin{gather}\n",
    "a = b+c+d \\\\\\\\\n",
    "x = y+z\n",
    "\\end{gather}\n",
    "$$`\n",
    "\n",
    "$$\n",
    "\\begin{gather}\n",
    "a = b+c+d \\\\\\\\\n",
    "x = y+z\n",
    "\\end{gather}\n",
    "$$\n",
    "\n",
    "`$$\n",
    "\\begin{align}\n",
    "a &= b+c+d \\\\\\\\\n",
    "x &= y+z\n",
    "\\end{align}\n",
    "$$`\n",
    "\n",
    "$$\n",
    "\\begin{align}\n",
    "a &= b+c+d \\\\\\\\\n",
    "x &= y+z\n",
    "\\end{align}\n",
    "$$\n",
    "\n"
   ]
  },
  {
   "cell_type": "markdown",
   "metadata": {},
   "source": [
    "### 分段函数"
   ]
  },
  {
   "cell_type": "markdown",
   "metadata": {},
   "source": [
    "`$$\n",
    "y=\\begin{cases}\n",
    "-x,\\quad x\\leq 0 \\\\\\\\\n",
    "x,\\quad x>0\n",
    "\\end{cases}\n",
    "$$`\n",
    "\n",
    "$$\n",
    "y=\\begin{cases}\n",
    "-x,\\quad x\\leq 0 \\\\\\\\\n",
    "x,\\quad x>0\n",
    "\\end{cases}\n",
    "$$\n"
   ]
  },
  {
   "cell_type": "markdown",
   "metadata": {},
   "source": [
    "## 不常用"
   ]
  },
  {
   "cell_type": "markdown",
   "metadata": {},
   "source": [
    "### 数组划线"
   ]
  },
  {
   "cell_type": "markdown",
   "metadata": {},
   "source": [
    "`$$\n",
    "\\left(\\begin{array}{|c|c|}\n",
    "1 & 2 \\\\\\\\\n",
    "\\\\hline\n",
    "3 & 4\n",
    "\\end{array}\\right)\n",
    "$$`\n",
    "\n",
    "$$\n",
    "\\left(\\begin{array}{|c|c|}\n",
    "1 & 2 \\\\\\\\\n",
    "\\\\hline\n",
    "3 & 4\n",
    "\\end{array}\\right)\n",
    "$$\n"
   ]
  },
  {
   "cell_type": "markdown",
   "metadata": {},
   "source": [
    "### 制表"
   ]
  },
  {
   "cell_type": "markdown",
   "metadata": {},
   "source": [
    "`$$\n",
    "\\begin{array}{|c|c|}\n",
    "\\hline\n",
    "{1111111111} & 2 \\\\\\\\\n",
    "\\hline\n",
    "3 & 4 \\\\\\\\\n",
    "\\hline\n",
    "\\end{array}\n",
    "$$`\n",
    "\n",
    "$$\n",
    "\\begin{array}{|c|c|}\n",
    "\\hline\n",
    "{1111111111} & 2 \\\\\\\\\n",
    "\\hline\n",
    "3 & 4 \\\\\\\\\n",
    "\\hline\n",
    "\\end{array}\n",
    "$$\n"
   ]
  },
  {
   "cell_type": "code",
   "execution_count": 4,
   "metadata": {},
   "outputs": [
    {
     "data": {
      "text/html": [
       "\n",
       "        <iframe\n",
       "            width=\"800\"\n",
       "            height=\"450\"\n",
       "            src=\"https://arxiv.org/pdf/1406.2661.pdf\"\n",
       "            frameborder=\"0\"\n",
       "            allowfullscreen\n",
       "        ></iframe>\n",
       "        "
      ],
      "text/plain": [
       "<IPython.lib.display.IFrame at 0x127217f56d8>"
      ]
     },
     "execution_count": 4,
     "metadata": {},
     "output_type": "execute_result"
    }
   ],
   "source": [
    "from IPython.display import IFrame\n",
    "IFrame('https://arxiv.org/pdf/1406.2661.pdf', \n",
    "       width=800, height=450)"
   ]
  },
  {
   "cell_type": "code",
   "execution_count": 10,
   "metadata": {
    "scrolled": true
   },
   "outputs": [
    {
     "data": {
      "text/html": [
       "\n",
       "        <iframe\n",
       "            width=\"600\"\n",
       "            height=\"450\"\n",
       "            src=\"./LATEX.pdf\"\n",
       "            frameborder=\"0\"\n",
       "            allowfullscreen\n",
       "        ></iframe>\n",
       "        "
      ],
      "text/plain": [
       "<IPython.lib.display.IFrame at 0x127217f59b0>"
      ]
     },
     "execution_count": 10,
     "metadata": {},
     "output_type": "execute_result"
    }
   ],
   "source": [
    "from IPython.display import IFrame\n",
    "IFrame('./LATEX.pdf',width=600, height=450)"
   ]
  },
  {
   "cell_type": "markdown",
   "metadata": {},
   "source": [
    "[Notebook显示pdf](https://stackoverflow.com/questions/19470099/view-pdf-image-in-an-ipython-notebook)"
   ]
  },
  {
   "cell_type": "markdown",
   "metadata": {},
   "source": [
    "## Latex在线公式编辑"
   ]
  },
  {
   "cell_type": "markdown",
   "metadata": {},
   "source": [
    "CodeCogs 提供了一个[在线公式编辑器](https://www.codecogs.com/latex/eqneditor.php)"
   ]
  },
  {
   "cell_type": "markdown",
   "metadata": {},
   "source": [
    "## Github 公式显示"
   ]
  },
  {
   "cell_type": "markdown",
   "metadata": {},
   "source": [
    "### 只适用于谷歌浏览器的插件"
   ]
  },
  {
   "cell_type": "markdown",
   "metadata": {},
   "source": [
    "Github的Markdown不支持mathjax的公式渲染，高票评论貌似都推荐把公式统统转换为图片的格式再内嵌到Markdown里，但是这样工作量太大了；最后还是有大神推荐了适合于Chrome的：\n",
    "\n",
    "[GitHub with MathJax 插件](https://chrome.google.com/webstore/detail/github-with-mathjax/ioemnmodlmafdkllaclgeombjnmnbima)"
   ]
  },
  {
   "cell_type": "markdown",
   "metadata": {},
   "source": [
    "### html嵌入"
   ]
  },
  {
   "attachments": {
    "image.png": {
     "image/png": "[encoded data removed]"
    }
   },
   "cell_type": "markdown",
   "metadata": {},
   "source": [
    "CodeCogs 提供了一个在线 LaTeX 编辑器，\n",
    "\n",
    "[在线 LaTeX 编辑器](https://www.codecogs.com/latex/eqneditor.php)\n",
    "\n",
    "可以将输入的数学公式转换为图片，并自动生成 HTML 代码（也支持其他格式）。\n",
    "![image.png](attachment:image.png)"
   ]
  },
  {
   "cell_type": "markdown",
   "metadata": {},
   "source": []
  }
 ],
 "metadata": {
  "kernelspec": {
   "display_name": "Python 3",
   "language": "python",
   "name": "python3"
  },
  "language_info": {
   "codemirror_mode": {
    "name": "ipython",
    "version": 3
   },
   "file_extension": ".py",
   "mimetype": "text/x-python",
   "name": "python",
   "nbconvert_exporter": "python",
   "pygments_lexer": "ipython3",
   "version": "3.6.5"
  },
  "toc": {
   "base_numbering": 1,
   "nav_menu": {},
   "number_sections": true,
   "sideBar": true,
   "skip_h1_title": false,
   "title_cell": "Table of Contents",
   "title_sidebar": "Contents",
   "toc_cell": false,
   "toc_position": {
    "height": "calc(100% - 180px)",
    "left": "10px",
    "top": "150px",
    "width": "267px"
   },
   "toc_section_display": true,
   "toc_window_display": true
  },
  "varInspector": {
   "cols": {
    "lenName": 16,
    "lenType": 16,
    "lenVar": 40
   },
   "kernels_config": {
    "python": {
     "delete_cmd_postfix": "",
     "delete_cmd_prefix": "del ",
     "library": "var_list.py",
     "varRefreshCmd": "print(var_dic_list())"
    },
    "r": {
     "delete_cmd_postfix": ") ",
     "delete_cmd_prefix": "rm(",
     "library": "var_list.r",
     "varRefreshCmd": "cat(var_dic_list()) "
    }
   },
   "types_to_exclude": [
    "module",
    "function",
    "builtin_function_or_method",
    "instance",
    "_Feature"
   ],
   "window_display": false
  }
 },
 "nbformat": 4,
 "nbformat_minor": 2
}
