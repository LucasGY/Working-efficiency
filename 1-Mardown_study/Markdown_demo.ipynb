{
 "cells": [
  {
   "cell_type": "markdown",
   "metadata": {},
   "source": [
    "# Markdown简介\n",
    "--------"
   ]
  },
  {
   "cell_type": "markdown",
   "metadata": {},
   "source": [
    "## Markdown简介"
   ]
  },
  {
   "cell_type": "markdown",
   "metadata": {},
   "source": [
    "&emsp;&emsp;Markdown是一种可以使用普通文本编辑器编写的标记语言，通过简单的标记语法，它可以使普通文本内容具有一定的格式。Markdown具有一系列衍生版本，用于扩展Markdown的功能（如表格、脚注、内嵌HTML等等），这些功能原初的Markdown尚不具备，它们能让Markdown转换成更多的格式，例如``LaTeX``，``Docbook``。Markdown增强版中比较有名的有``Markdown Extra``、``MultiMarkdown``、 ``Maruku``等。这些衍生版本要么基于工具，如`Pandoc`；要么基于网站，如GitHub和Wikipedia，在语法上基本兼容，但在一些语法和渲染效果上有改动。"
   ]
  },
  {
   "cell_type": "markdown",
   "metadata": {},
   "source": [
    "## 注意事项及前提"
   ]
  },
  {
   "cell_type": "markdown",
   "metadata": {},
   "source": [
    "1. 本文针对Jupter Notebook上的笔记进行pdf转化时发现，有些Markdown语法在转化成pdf时，会出现格式错误等问题，摸索出的原则是选择越简单的语法编写转化的pdf越准确。目前可用的语法规则有：`标题`、`字体`、`超链接`、`表格`。  \n",
    "2. <span class=\"burk\">纯Markdown文本使用md文件编写最合适不过，这里用Jupyter只是为了熟练Jupyter。</span>  \n",
    "3. Jupyter 上编辑一般都使用Markdown和代码，原生NBConvert一般不用，传到Github上很难看。"
   ]
  },
  {
   "cell_type": "markdown",
   "metadata": {},
   "source": [
    "## 目前存在的问题"
   ]
  },
  {
   "cell_type": "markdown",
   "metadata": {},
   "source": [
    "1. 在转化为PDF时，存在自动的首行缩进。"
   ]
  },
  {
   "cell_type": "markdown",
   "metadata": {},
   "source": [
    "## 参考网址"
   ]
  },
  {
   "cell_type": "markdown",
   "metadata": {},
   "source": [
    "[Markdown基本语法](https://www.jianshu.com/p/191d1e21f7ed)  \n",
    "[markdown语法之列表与缩进](https://blog.csdn.net/qq_33229669/article/details/81610939)"
   ]
  },
  {
   "cell_type": "markdown",
   "metadata": {},
   "source": [
    "## 私房菜"
   ]
  },
  {
   "cell_type": "markdown",
   "metadata": {},
   "source": [
    "暂无"
   ]
  },
  {
   "cell_type": "markdown",
   "metadata": {},
   "source": [
    "# 标题\n",
    "--------"
   ]
  },
  {
   "cell_type": "markdown",
   "metadata": {},
   "source": [
    "``## 二级标题``"
   ]
  },
  {
   "cell_type": "markdown",
   "metadata": {},
   "source": [
    "## 二级标题"
   ]
  },
  {
   "cell_type": "markdown",
   "metadata": {},
   "source": [
    "``### 三级标题``"
   ]
  },
  {
   "cell_type": "markdown",
   "metadata": {},
   "source": [
    "### 三级标题"
   ]
  },
  {
   "cell_type": "markdown",
   "metadata": {},
   "source": [
    "注：标题**文字**与**#**号间需要有空格"
   ]
  },
  {
   "cell_type": "markdown",
   "metadata": {},
   "source": [
    "# 字体\n",
    "--------"
   ]
  },
  {
   "cell_type": "markdown",
   "metadata": {},
   "source": [
    "## 转义字符"
   ]
  },
  {
   "cell_type": "markdown",
   "metadata": {},
   "source": [
    "比如我们想输出反引号，但是markdown把反引号作为标记，有编程语言的基础的同学知道，转义符的存在。\n",
    "反斜线(\\\\)用于插入在 Markdown 语法中有特殊作用的字符。"
   ]
  },
  {
   "cell_type": "markdown",
   "metadata": {},
   "source": [
    "## 字体变化"
   ]
  },
  {
   "cell_type": "markdown",
   "metadata": {},
   "source": [
    "输入\n",
    "\n",
    "`**这是加粗的文字**`  \n",
    "`*这是倾斜的文字*`  \n",
    "`***这是斜体加粗的文字***`  \n",
    "`~~这是加删除线的文字~~`\n",
    "\n",
    "输出"
   ]
  },
  {
   "cell_type": "markdown",
   "metadata": {},
   "source": [
    "**这是加粗的文字**  \n",
    "*这是倾斜的文字*`  \n",
    "***这是斜体加粗的文字***  \n",
    "~~这是加删除线的文字~~"
   ]
  },
  {
   "cell_type": "markdown",
   "metadata": {},
   "source": [
    "## 高亮字体"
   ]
  },
  {
   "cell_type": "markdown",
   "metadata": {},
   "source": [
    "普通字体  \n",
    "\\`高亮字体`"
   ]
  },
  {
   "cell_type": "markdown",
   "metadata": {},
   "source": [
    "普通字体  \n",
    "`高亮字体`"
   ]
  },
  {
   "cell_type": "markdown",
   "metadata": {},
   "source": [
    "## 字体大小"
   ]
  },
  {
   "cell_type": "markdown",
   "metadata": {},
   "source": [
    "我们之前说过。markdown是兼容HTML的，所以可以使用`<font>`标签来设置字体大小。\n",
    "\n",
    "输入\n",
    "\n",
    "```html\n",
    "    <font size=6>我是放大字</font>\n",
    "    <font size=2>我是缩小字</font>\n",
    "```\n",
    "\n",
    "输出"
   ]
  },
  {
   "cell_type": "markdown",
   "metadata": {},
   "source": [
    "<font size=6>我是放大字</font>\n",
    "<font size=2>我是缩小字</font>"
   ]
  },
  {
   "cell_type": "markdown",
   "metadata": {},
   "source": [
    "# 引用\n",
    "--------"
   ]
  },
  {
   "cell_type": "markdown",
   "metadata": {},
   "source": [
    "```\n",
    ">这是引用的内容\n",
    ">>这是引用的内容\n",
    ">>>>这是引用的内容（空一行回到原文）\n",
    "\n",
    "这是引用的内容\n",
    "```"
   ]
  },
  {
   "cell_type": "markdown",
   "metadata": {},
   "source": [
    ">这是引用的内容\n",
    ">>这是引用的内容\n",
    ">>>>这是引用的内容\n",
    "\n",
    "这是引用的内容"
   ]
  },
  {
   "cell_type": "markdown",
   "metadata": {},
   "source": [
    "# 段落\n",
    "--------"
   ]
  },
  {
   "cell_type": "markdown",
   "metadata": {},
   "source": [
    "## 首行缩进"
   ]
  },
  {
   "cell_type": "markdown",
   "metadata": {},
   "source": [
    "写文章时，我们常常希望能够首行缩进，这时可以在段首加入`&ensp;`；来输入一个空格.加入`&emsp;`来输入两个空格。\n",
    "\n",
    "因此，中文首行缩进需要两个`&emsp;`。(英文半角状态)"
   ]
  },
  {
   "cell_type": "markdown",
   "metadata": {},
   "source": [
    "&emsp;&emsp;一语未了，只听后院中有人笑声，说：“我来迟了，不曾迎接远客！\""
   ]
  },
  {
   "cell_type": "markdown",
   "metadata": {},
   "source": [
    "## 另起一段（换行）"
   ]
  },
  {
   "cell_type": "markdown",
   "metadata": {},
   "source": [
    "### 常用换行方式"
   ]
  },
  {
   "cell_type": "markdown",
   "metadata": {},
   "source": [
    "- “傻瓜”与“我爱你”之间有一行空格，导致出现`换行`出现；\n",
    "\n",
    "- “我爱你”与“傻逼”间只有“ENTER”键，导致出现`分词`的空格出现"
   ]
  },
  {
   "cell_type": "markdown",
   "metadata": {},
   "source": [
    "结果：\n",
    "\n",
    "傻瓜\n",
    "\n",
    "我爱你\n",
    "傻逼"
   ]
  },
  {
   "cell_type": "markdown",
   "metadata": {},
   "source": [
    "### 不常用的换行方式"
   ]
  },
  {
   "cell_type": "markdown",
   "metadata": {},
   "source": [
    "- “同济大学”与“吉林大学”间有“space+space+enter”\n",
    "- 与 5.1.1 的换行方式段间距不同"
   ]
  },
  {
   "cell_type": "markdown",
   "metadata": {},
   "source": [
    "清华大学\n",
    "同济大学  \n",
    "吉林大学"
   ]
  },
  {
   "cell_type": "markdown",
   "metadata": {},
   "source": [
    "# 分割线\n",
    "--------"
   ]
  },
  {
   "cell_type": "markdown",
   "metadata": {},
   "source": [
    "    三个或者三个以上的 - 或者 * 都可以：\n",
    "    ---\n",
    "    ----\n",
    "    ***\n",
    "    *****  \n",
    "    ---"
   ]
  },
  {
   "cell_type": "markdown",
   "metadata": {},
   "source": [
    "---  \n",
    "----  \n",
    "***  \n",
    "*****  \n",
    "---"
   ]
  },
  {
   "cell_type": "markdown",
   "metadata": {},
   "source": [
    "# 图片\n",
    "--------"
   ]
  },
  {
   "cell_type": "markdown",
   "metadata": {},
   "source": [
    "## 插入网络图片"
   ]
  },
  {
   "cell_type": "markdown",
   "metadata": {},
   "source": [
    "``![图片alt](图片网址 ''图片title'')``\n",
    "\n",
    "图片alt就是显示在图片下面的文字，相当于对图片内容的解释。  \n",
    "图片title是图片的标题，当鼠标移到图片上时显示的内容。title可加可不加\n",
    "\n",
    "``![blockchain](https://ss0.bdstatic.com/70cFvHSh_Q1YnxGkpoWK1HF6hhy/it/u=702257389,1274025419&fm=27&gp=0.jpg \"区块链\")``\n"
   ]
  },
  {
   "cell_type": "markdown",
   "metadata": {},
   "source": [
    "![blockchain](https://ss0.bdstatic.com/70cFvHSh_Q1YnxGkpoWK1HF6hhy/it/u=702257389,1274025419&fm=27&gp=0.jpg \"区块链\")"
   ]
  },
  {
   "cell_type": "markdown",
   "metadata": {},
   "source": [
    "## 插入本地图片"
   ]
  },
  {
   "cell_type": "markdown",
   "metadata": {},
   "source": [
    "    \n",
    "    ![图片alt](图片名字 \"图片title\")\n",
    "\n",
    "图片alt就是显示在图片下面的文字，相当于对图片内容的解释。  \n",
    "图片title是图片的标题，当鼠标移到图片上时显示的内容。title可加可不加  \n",
    "注意：图片须与``ipynb``文件在同一文件夹\n",
    "\n",
    "    ![cover](cover.jpg \"封面\")\n"
   ]
  },
  {
   "cell_type": "markdown",
   "metadata": {},
   "source": [
    "![cover](cover.jpg)"
   ]
  },
  {
   "cell_type": "markdown",
   "metadata": {},
   "source": [
    "## 更改图片大小"
   ]
  },
  {
   "cell_type": "markdown",
   "metadata": {},
   "source": [
    "我们在上面插入的图片的大小都是固定的，那么有什么方法可以改变图片的默认大小呢？\n",
    "我们说过，我们说过，markdown是兼容HTML语法的，所以可以利用`<img>`标签来定义图片的大小\n",
    "```html\n",
    "    <img src=\"filename\" width=\"\" height=\"\"></img>\n",
    "```\n",
    "这样通过img标签就可以改变图片的大小了。"
   ]
  },
  {
   "cell_type": "markdown",
   "metadata": {},
   "source": [
    "## 网上图片超链接"
   ]
  },
  {
   "cell_type": "markdown",
   "metadata": {},
   "source": [
    "### 普通超链接"
   ]
  },
  {
   "cell_type": "markdown",
   "metadata": {},
   "source": [
    "    [![图片alt](图片网址)](跳转网址)\n",
    "实例\n",
    "\n",
    "    [![Binder](https://mybinder.org/badge.svg)](https://www.youtube.com/)\n",
    "结果"
   ]
  },
  {
   "cell_type": "markdown",
   "metadata": {},
   "source": [
    "[![Binder](https://mybinder.org/badge.svg)](https://www.youtube.com/)"
   ]
  },
  {
   "cell_type": "markdown",
   "metadata": {},
   "source": [
    "### html格式超链接"
   ]
  },
  {
   "cell_type": "markdown",
   "metadata": {},
   "source": [
    "        <a href=\"跳转网址\"><img src=\"图片源地址\" /></a>\n",
    "示例\n",
    "```html\n",
    "    <a href=\"http://baidu.com\"><img src=\"https://notebooks.azure.com/launch.png\" /></a>\n",
    "```\n",
    "结果"
   ]
  },
  {
   "cell_type": "markdown",
   "metadata": {},
   "source": [
    "<a href=\"http://baidu.com\"><img src=\"https://notebooks.azure.com/launch.png\" /></a>"
   ]
  },
  {
   "cell_type": "markdown",
   "metadata": {},
   "source": [
    "# 超链接\n",
    "--------"
   ]
  },
  {
   "cell_type": "markdown",
   "metadata": {},
   "source": [
    "## 普通超链接"
   ]
  },
  {
   "cell_type": "markdown",
   "metadata": {},
   "source": [
    "\n",
    "    [超链接名](超链接地址 \"超链接title\")\n",
    "    title可加可不加\n",
    "\n",
    "    实例：\n",
    "    [Youtube](https://www.youtube.com/)  \n",
    "    [Google](https://www.google.com/)  \n",
    "    [百度](http://baidu.com)\n"
   ]
  },
  {
   "cell_type": "markdown",
   "metadata": {},
   "source": [
    "[Youtube](https://www.youtube.com/)  \n",
    "[Google](https://www.google.com/)  \n",
    "[百度](http://baidu.com)"
   ]
  },
  {
   "cell_type": "markdown",
   "metadata": {},
   "source": [
    "## html格式超链接"
   ]
  },
  {
   "cell_type": "markdown",
   "metadata": {},
   "source": [
    "注：Markdown本身语法不支持链接在新页面中打开，貌似简书做了处理，是可以的。别的平台可能就不行了，如果想要在新页面中打开的话可以用html语言的a标签代替。"
   ]
  },
  {
   "cell_type": "markdown",
   "metadata": {},
   "source": [
    "\n",
    "        <a href=\"超链接地址\" target=\"_blank\">超链接名</a>\n",
    "\n",
    "示例\n",
    "```html\n",
    "    <a href=\"http://baidu.com\" target=\"_blank\">百度</a>\n",
    "```"
   ]
  },
  {
   "cell_type": "markdown",
   "metadata": {},
   "source": [
    "<a href=\"http://baidu.com\" target=\"_blank\">百度</a>"
   ]
  },
  {
   "cell_type": "markdown",
   "metadata": {},
   "source": [
    "## Github独有的“参考文献”格式"
   ]
  },
  {
   "cell_type": "markdown",
   "metadata": {},
   "source": [
    "    [Buy the book on Amazon][1]\n",
    "    \n",
    "    [1]: http://amzn.to/2vvBijB"
   ]
  },
  {
   "cell_type": "markdown",
   "metadata": {},
   "source": [
    "# 列表\n",
    "--------"
   ]
  },
  {
   "cell_type": "markdown",
   "metadata": {},
   "source": [
    "## 无序列表"
   ]
  },
  {
   "cell_type": "markdown",
   "metadata": {},
   "source": [
    "```\n",
    "- 列表内容1  \n",
    "+ 列表内容2  \n",
    "* 列表内容3\n",
    "\n",
    "注意：- + * 跟内容之间都要有一个空格；间有“space+space+enter”\n",
    "```"
   ]
  },
  {
   "cell_type": "markdown",
   "metadata": {},
   "source": [
    "- 列表内容1  \n",
    "+ 列表内容2  \n",
    "* 列表内容3"
   ]
  },
  {
   "cell_type": "markdown",
   "metadata": {},
   "source": [
    "## 有序列表"
   ]
  },
  {
   "cell_type": "markdown",
   "metadata": {},
   "source": [
    "```\n",
    "1. 列表内容  \n",
    "2. 列表内容  \n",
    "3. 列表内容\n",
    "\n",
    "注意：1、序号跟内容之间要有空格；2、间有“space+space+enter”\n",
    "```"
   ]
  },
  {
   "cell_type": "markdown",
   "metadata": {},
   "source": [
    "1. 列表内容  \n",
    "2. 列表内容  \n",
    "3. 列表内容"
   ]
  },
  {
   "cell_type": "markdown",
   "metadata": {},
   "source": [
    "## 列表嵌套"
   ]
  },
  {
   "cell_type": "markdown",
   "metadata": {},
   "source": [
    "```\n",
    "1. 我们需要……  \n",
    "还没说完……  \n",
    "以及……\n",
    "\n",
    "以及……\n",
    "```"
   ]
  },
  {
   "cell_type": "markdown",
   "metadata": {},
   "source": [
    "1. 我们需要……  \n",
    "还没说完……  \n",
    "以及……\n",
    "\n",
    "以及……"
   ]
  },
  {
   "cell_type": "markdown",
   "metadata": {},
   "source": [
    "```\n",
    "上一级和下一级之间敲1个TAB即可\n",
    "1. 一级有序列表内容\n",
    "    - 二级无序列表内容  \n",
    "    - 二级无序列表内容   \n",
    "2. 二级有序列表内容\n",
    "```"
   ]
  },
  {
   "cell_type": "markdown",
   "metadata": {},
   "source": [
    "1. 一级有序列表内容\n",
    "    - 二级无序列表内容  \n",
    "    - 二级无序列表内容   \n",
    "2. 二级有序列表内容"
   ]
  },
  {
   "cell_type": "markdown",
   "metadata": {},
   "source": [
    "# 表格\n",
    "--------"
   ]
  },
  {
   "cell_type": "markdown",
   "metadata": {},
   "source": [
    "```\n",
    "表头|表头|表头\n",
    "----|:--:|---:\n",
    "内容|内容|内容\n",
    "内容|内容|内容\n",
    "\n",
    "第二行分割表头和内容。\n",
    "- 有一个就行，为了对齐，多加了几个\n",
    "文字默认居左\n",
    "-两边加：表示文字居中\n",
    "-右边加：表示文字居右\n",
    "注：原生的语法两边都要用 | 包起来。此处省略\n",
    "\n",
    "实例：\n",
    "姓名|技能|排行\n",
    "--|:--:|--:\n",
    "刘备|哭|大哥\n",
    "关羽|打|二哥\n",
    "张飞|骂|三弟\n",
    "```"
   ]
  },
  {
   "cell_type": "markdown",
   "metadata": {},
   "source": [
    "姓名|技能|排行\n",
    "--|:--:|--:\n",
    "刘备|哭|大哥\n",
    "关羽|打|二哥\n",
    "张飞|骂|三弟"
   ]
  },
  {
   "cell_type": "markdown",
   "metadata": {},
   "source": [
    "# 代码\n",
    "--------"
   ]
  },
  {
   "cell_type": "markdown",
   "metadata": {},
   "source": [
    "## 单行代码"
   ]
  },
  {
   "cell_type": "markdown",
   "metadata": {},
   "source": [
    "在每行代码前加入4个空格或者添加一个制表符（TAB键）\n",
    "\n",
    "注意：其缩进是相对于当前格式状态下的。例如，[TAB][TAB]printf(\"hello world!\");"
   ]
  },
  {
   "cell_type": "markdown",
   "metadata": {},
   "source": [
    "* 列表\n",
    "        printf(\"hello world!\");"
   ]
  },
  {
   "cell_type": "markdown",
   "metadata": {},
   "source": [
    "## 代码块"
   ]
  },
  {
   "cell_type": "markdown",
   "metadata": {},
   "source": [
    "在代码两侧添加三个反引号‘```’"
   ]
  },
  {
   "cell_type": "markdown",
   "metadata": {},
   "source": [
    "\\`\\`\\` \n",
    "\n",
    "    function fun(){\n",
    "         echo \"这是一句非常牛逼的代码\";\n",
    "    }\n",
    "    fun();\n",
    "\\`\\`\\`"
   ]
  },
  {
   "cell_type": "markdown",
   "metadata": {},
   "source": [
    "```\n",
    "   function fun(){\n",
    "       echo \"这是一句非常牛逼的代码\";\n",
    "   }\n",
    "   fun();\n",
    "```"
   ]
  },
  {
   "cell_type": "markdown",
   "metadata": {},
   "source": [
    "## 代码高亮"
   ]
  },
  {
   "cell_type": "markdown",
   "metadata": {},
   "source": [
    "在三个反引号\\`后加上python、shell、C等\n",
    "\n",
    "\\`\\`\\`python\n",
    "\n",
    "    print('hello')\n",
    "    \n",
    "\\`\\`\\`"
   ]
  },
  {
   "cell_type": "markdown",
   "metadata": {},
   "source": [
    "### python"
   ]
  },
  {
   "cell_type": "markdown",
   "metadata": {},
   "source": [
    "```python\n",
    "$ python\n",
    "Python 3.6.0 | packaged by conda-forge | (default, Jan 13 2017, 23:17:12)\n",
    "[GCC 4.8.2 20140120 (Red Hat 4.8.2-15)] on linux\n",
    "Type \"help\", \"copyright\", \"credits\" or \"license\" for more information.\n",
    ">>> a = 5\n",
    ">>> print(a)\n",
    "5\n",
    "```"
   ]
  },
  {
   "cell_type": "markdown",
   "metadata": {},
   "source": [
    "### shell"
   ]
  },
  {
   "cell_type": "markdown",
   "metadata": {},
   "source": [
    "```shell\n",
    "cp hello.py ./\n",
    "sudo poweroff\n",
    "```"
   ]
  },
  {
   "cell_type": "markdown",
   "metadata": {},
   "source": [
    "### C语言"
   ]
  },
  {
   "cell_type": "markdown",
   "metadata": {},
   "source": [
    "```C\n",
    "#include<stdio.h>\n",
    "int main(){\n",
    "    printf(\"hello world/n\");\n",
    "    return 0;\n",
    "        }\n",
    "```"
   ]
  },
  {
   "cell_type": "markdown",
   "metadata": {},
   "source": [
    "# 流程图\n",
    "--------"
   ]
  },
  {
   "cell_type": "markdown",
   "metadata": {},
   "source": [
    "暂无"
   ]
  },
  {
   "cell_type": "markdown",
   "metadata": {},
   "source": [
    "# 公式\n",
    "--------"
   ]
  },
  {
   "cell_type": "markdown",
   "metadata": {},
   "source": [
    "pass"
   ]
  }
 ],
 "metadata": {
  "kernelspec": {
   "display_name": "Python 3",
   "language": "python",
   "name": "python3"
  },
  "language_info": {
   "codemirror_mode": {
    "name": "ipython",
    "version": 3
   },
   "file_extension": ".py",
   "mimetype": "text/x-python",
   "name": "python",
   "nbconvert_exporter": "python",
   "pygments_lexer": "ipython3",
   "version": "3.6.5"
  },
  "toc": {
   "base_numbering": 1,
   "nav_menu": {},
   "number_sections": true,
   "sideBar": true,
   "skip_h1_title": false,
   "title_cell": "Table of Contents",
   "title_sidebar": "Contents",
   "toc_cell": false,
   "toc_position": {
    "height": "calc(100% - 180px)",
    "left": "10px",
    "top": "150px",
    "width": "267px"
   },
   "toc_section_display": true,
   "toc_window_display": true
  },
  "varInspector": {
   "cols": {
    "lenName": 16,
    "lenType": 16,
    "lenVar": 40
   },
   "kernels_config": {
    "python": {
     "delete_cmd_postfix": "",
     "delete_cmd_prefix": "del ",
     "library": "var_list.py",
     "varRefreshCmd": "print(var_dic_list())"
    },
    "r": {
     "delete_cmd_postfix": ") ",
     "delete_cmd_prefix": "rm(",
     "library": "var_list.r",
     "varRefreshCmd": "cat(var_dic_list()) "
    }
   },
   "types_to_exclude": [
    "module",
    "function",
    "builtin_function_or_method",
    "instance",
    "_Feature"
   ],
   "window_display": false
  }
 },
 "nbformat": 4,
 "nbformat_minor": 2
}
